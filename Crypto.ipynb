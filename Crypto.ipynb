{
  "nbformat": 4,
  "nbformat_minor": 0,
  "metadata": {
    "colab": {
      "provenance": [],
      "include_colab_link": true
    },
    "kernelspec": {
      "name": "python3",
      "display_name": "Python 3"
    },
    "language_info": {
      "name": "python"
    }
  },
  "cells": [
    {
      "cell_type": "markdown",
      "metadata": {
        "id": "view-in-github",
        "colab_type": "text"
      },
      "source": [
        "<a href=\"https://colab.research.google.com/github/alby-shinoj/100LinesOfPythonCode/blob/main/Crypto.ipynb\" target=\"_parent\"><img src=\"https://colab.research.google.com/assets/colab-badge.svg\" alt=\"Open In Colab\"/></a>"
      ]
    },
    {
      "cell_type": "markdown",
      "source": [
        "Substitution exp 2"
      ],
      "metadata": {
        "id": "_Uqs39x5WS-6"
      }
    },
    {
      "cell_type": "code",
      "execution_count": null,
      "metadata": {
        "id": "hqSSaN5Hwg3r"
      },
      "outputs": [],
      "source": [
        "class CaesarCipher:\n",
        "  def encrypt(text, shift):\n",
        "    result=[]\n",
        "    shift= shift % 26\n",
        "    for ch in text:\n",
        "      if ch.isupper():\n",
        "        encrypted_char = chr(((ord(ch) - ord('A') + shift) % 26 + 26) % 26 + ord('A'))\n",
        "        result.append(encrypted_char)\n",
        "      elif ch.islower():\n",
        "        encrypted_char = chr(((ord(ch) - ord('a') + shift) % 26 + 26) % 26 + ord('a'))\n",
        "        result.append(encrypted_char)\n",
        "      else:\n",
        "        result.append(ch)\n",
        "    return ''.join(result)\n",
        "if __name__ == \"__main__\":\n",
        "  text = input(\"enter the text to encrypt:\")\n",
        "  shift = int(input(\"enter teh amount of shift u want:\"))\n",
        "  encrypted_text = CaesarCipher.encrypt(text, shift)\n",
        "  print(\"original text:\", text)\n",
        "  print(\"Envcrypted text:\" ,encrypted_text)"
      ]
    },
    {
      "cell_type": "code",
      "source": [
        "from google.colab import drive\n",
        "drive.mount('/content/drive')"
      ],
      "metadata": {
        "id": "lTXsxwhVnfe2"
      },
      "execution_count": null,
      "outputs": []
    },
    {
      "cell_type": "markdown",
      "source": [
        "Symetric cypder /des"
      ],
      "metadata": {
        "id": "eEFzlBE_WdBS"
      }
    },
    {
      "cell_type": "code",
      "source": [
        "!pip install pycryptodome"
      ],
      "metadata": {
        "id": "dFLDvnQH2vJd"
      },
      "execution_count": null,
      "outputs": []
    },
    {
      "cell_type": "code",
      "source": [
        "from Crypto.Cipher import DES\n",
        "from Crypto.Util.Padding import pad, unpad\n",
        "def des_encrypt(plaintext, key):\n",
        "    cipher = DES.new(key, DES.MODE_ECB)\n",
        "    padded_text = pad(plaintext.encode(), DES.block_size)\n",
        "    encrypted_text = cipher.encrypt(padded_text)\n",
        "    return encrypted_text\n",
        "def des_decrypt(encrypted_text, key):\n",
        "    cipher = DES.new(key, DES.MODE_ECB)\n",
        "    decrypted_text = unpad(cipher.decrypt(encrypted_text), DES.block_size)\n",
        "    return decrypted_text.decode()\n",
        "plaintext = input(\"Enter the plaintext: \")\n",
        "key = input(\"Enter an 8-character key: \")\n",
        "key = key.encode()\n",
        "encrypted_text = des_encrypt(plaintext, key)\n",
        "print(\"Encrypted:\",encrypted_text.hex())\n",
        "decrypted_text = des_decrypt(encrypted_text, key)\n",
        "print(\"Decrypted:\",decrypted_text)"
      ],
      "metadata": {
        "id": "U42vDPWJ3USp",
        "colab": {
          "base_uri": "https://localhost:8080/"
        },
        "outputId": "60050dbd-bd07-4244-8ec1-566a7286dea6"
      },
      "execution_count": null,
      "outputs": [
        {
          "output_type": "stream",
          "name": "stdout",
          "text": [
            "Enter the plaintext: qwertyui\n",
            "Enter an 8-character key: asdfghjk\n",
            "Encrypted: 42f29abd8a44af22afb959b1a15e762f\n",
            "Decrypted: qwertyui\n"
          ]
        }
      ]
    },
    {
      "cell_type": "markdown",
      "source": [
        "RSA or asymetric"
      ],
      "metadata": {
        "id": "M8ZuBGhIWj0H"
      }
    },
    {
      "cell_type": "code",
      "source": [
        "p = 13\n",
        "q = 17\n",
        "e = 5\n",
        "n = p * q\n",
        "pi_n = (p-1) * (q-1)\n",
        "print(n)\n",
        "print(pi_n)\n",
        "i = 1\n",
        "m = 134\n",
        "for i in range(100):\n",
        "  if((e * i) % pi_n == 1):\n",
        "    d = i\n",
        "  else:\n",
        "    i+= 1\n",
        "hlo = 'hello'\n",
        "c = (m ** e) % n\n",
        "dec = (c ** d) % n\n",
        "print('message' ,hlo)\n",
        "print('encrypt' ,c)\n",
        "print('decrypt' ,dec)\n",
        "if (dec == m):\n",
        "  print(\"verify\" + \" \" + hlo)\n",
        "else:\n",
        "  print(\"failed\")"
      ],
      "metadata": {
        "id": "8bNvD_Wb_Sp_"
      },
      "execution_count": null,
      "outputs": []
    },
    {
      "cell_type": "code",
      "source": [
        "def rail_fence_encrypt(text, num_rails):\n",
        "    rails = ['' for _ in range(num_rails)]\n",
        "    rail = 0\n",
        "    direction = 1\n",
        "    for char in text:\n",
        "        rails[rail] += char\n",
        "        if rail == 0:\n",
        "            direction = 1\n",
        "        elif rail == num_rails - 1:\n",
        "            direction = -1\n",
        "        rail += direction\n",
        "    encrypted_text = ''.join(rails)\n",
        "    return encrypted_text\n",
        "text = input(\"Enter the text to encrypt: \")\n",
        "num_rails = int(input(\"Enter the number of rails: \"))\n",
        "encrypted_message = rail_fence_encrypt(text, num_rails)\n",
        "print(\"Encrypted text:\", encrypted_message)"
      ],
      "metadata": {
        "colab": {
          "base_uri": "https://localhost:8080/"
        },
        "id": "c2T-2rRJVQ4-",
        "outputId": "ac20f92b-adb0-4dcc-ec7a-13675b4e00b5"
      },
      "execution_count": null,
      "outputs": [
        {
          "output_type": "stream",
          "name": "stdout",
          "text": [
            "Enter the text to encrypt: helloworld\n",
            "Enter the number of rails: 3\n",
            "Encrypted text: holelwrdlo\n"
          ]
        }
      ]
    },
    {
      "cell_type": "code",
      "source": [
        "a = \"11001100\"\n",
        "b = \"11000110\"\n",
        "result = int(a ,2) ^ int (b,2)\n",
        "bin = format(result,\"08b\")\n",
        "print(bin)"
      ],
      "metadata": {
        "colab": {
          "base_uri": "https://localhost:8080/"
        },
        "id": "oeTbASmHeLl9",
        "outputId": "15d0175b-44f0-421a-9f82-7f06528fddf7"
      },
      "execution_count": null,
      "outputs": [
        {
          "output_type": "stream",
          "name": "stdout",
          "text": [
            "00001010\n"
          ]
        }
      ]
    }
  ]
}